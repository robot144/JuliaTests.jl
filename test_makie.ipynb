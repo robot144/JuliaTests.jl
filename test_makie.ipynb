{
 "cells": [
  {
   "attachments": {},
   "cell_type": "markdown",
   "metadata": {},
   "source": [
    "# Some tests with Makie\n",
    "\n",
    "These tests are heavily inspired by the Makie tutorials at\n",
    "[Makie tutorials](https://docs.makie.org/stable/tutorials/)"
   ]
  },
  {
   "cell_type": "code",
   "execution_count": 1,
   "metadata": {},
   "outputs": [],
   "source": [
    "using WGLMakie\n",
    "#using CairoMakie"
   ]
  },
  {
   "cell_type": "code",
   "execution_count": null,
   "metadata": {},
   "outputs": [],
   "source": [
    "f=Figure(resolution=(600,300))\n",
    "ax=Axis(f[1,1],xlabel=\"x\",ylabel=\"y\",title=\"title\")\n",
    "x=range(0,2*pi,length=100)\n",
    "ysin=sin.(x)\n",
    "ycos=cos.(x)\n",
    "l1=lines!(ax,x,ysin,color=:black)\n",
    "l2=lines!(ax,x,ycos,color=:blue)\n",
    "display(f) "
   ]
  },
  {
   "cell_type": "code",
   "execution_count": null,
   "metadata": {},
   "outputs": [],
   "source": [
    "x=range(0,2*pi,length=100)\n",
    "ysin=sin.(x)\n",
    "ycos=cos.(x)\n",
    "f,ax=lines(x,ysin,color=:black)\n",
    "lines!(ax,x,ycos,color=:blue)\n",
    "f"
   ]
  },
  {
   "cell_type": "code",
   "execution_count": null,
   "metadata": {},
   "outputs": [],
   "source": [
    "x=range(0,2*pi,length=100)\n",
    "ysin=sin.(x)\n",
    "ycos=cos.(x)\n",
    "f,ax=scatter(ycos,ysin,color=x,markersize=5*x,colormap=:thermal)\n",
    "ax.aspect=1.0\n",
    "f"
   ]
  },
  {
   "cell_type": "code",
   "execution_count": null,
   "metadata": {},
   "outputs": [],
   "source": [
    "f,ax,l1=lines(-2..2, x->x^2, color=:red, label=\"x^2\")\n",
    "l3=lines!(ax, -2..2, x->x^3, color=:blue, label=\"x^3\")\n",
    "l2.linewidth=3\n",
    "l3.linewidth=3\n",
    "ax.xlabel=\"x\"\n",
    "ax.ylabel=\"y\"\n",
    "ax.title=\"title\"\n",
    "axislegend()\n",
    "#Legend(f[1,1], [l2,l3], [\"x^2\",\"x^3\"])\n",
    "f"
   ]
  },
  {
   "cell_type": "code",
   "execution_count": null,
   "metadata": {},
   "outputs": [],
   "source": [
    "#using CairoMakie\n",
    "\n",
    "x = LinRange(0, 10, 100)\n",
    "y = sin.(x)\n",
    "\n",
    "fig = Figure(resolution=(300,300))\n",
    "lines(fig[1, 1], x, y, color = :red)\n",
    "lines(fig[1, 2], x, y, color = :blue)\n",
    "lines(fig[2, 1:2], x, y, color = :green)\n",
    "\n",
    "fig"
   ]
  },
  {
   "cell_type": "code",
   "execution_count": null,
   "metadata": {},
   "outputs": [],
   "source": [
    "#using CairoMakie\n",
    "#using WGLMakie\n",
    "\n",
    "f=Figure(resolution=(300,200))\n",
    "ax=Axis(f[1,1],xlabel=\"x\",ylabel=\"y\",title=\"title\")\n",
    "hm = heatmap!(ax,randn(20, 20),colormap=:jet)\n",
    "Colorbar(f[1, 2], hm)\n",
    "f"
   ]
  },
  {
   "cell_type": "code",
   "execution_count": 17,
   "metadata": {},
   "outputs": [
    {
     "data": {
      "text/html": [
       "<div data-jscall-id=\"240\"><script data-jscall-id=\"241\" type=\"text/javascript\">\n",
       "    function register_resize_handler(remote_origin) {\n",
       "        function resize_callback(event) {\n",
       "            if (event.origin !== remote_origin) {\n",
       "                return;\n",
       "            }\n",
       "            const uuid = event.data[0];\n",
       "            const width = event.data[1];\n",
       "            const height = event.data[2];\n",
       "            const iframe = document.getElementById('ad24254b-c120-4c41-9b84-7f846137fe97');\n",
       "            if (iframe) {\n",
       "                iframe.style.width = width + \"px\";\n",
       "                iframe.style.height = height + \"px\";\n",
       "            }\n",
       "        }\n",
       "        if (window.addEventListener) {\n",
       "            window.addEventListener(\"message\", resize_callback, false);\n",
       "        } else if (window.attachEvent) {\n",
       "            window.attachEvent(\"onmessage\", resize_callback);\n",
       "        }\n",
       "    }\n",
       "    register_resize_handler('http://127.0.0.1:9284')\n",
       "\n",
       "</script><iframe scrolling=\"no\" id=\"ad24254b-c120-4c41-9b84-7f846137fe97\" data-jscall-id=\"239\" src=\"http://127.0.0.1:9284/ad24254b-c120-4c41-9b84-7f846137fe97\" style=\"position: relative; display: block; width: 100%; height: 100%; padding: 0; overflow: hidden; border: none\"></iframe></div>\n"
      ]
     },
     "metadata": {},
     "output_type": "display_data"
    }
   ],
   "source": [
    "#using WGLMakie\n",
    "\n",
    "xs = LinRange(0, 10, 100)\n",
    "ys = LinRange(0, 15, 100)\n",
    "zs = [cos(x) * sin(y) for x in xs, y in ys]\n",
    "\n",
    "f,ax,s1=surface(xs, ys, zs,color=-zs, colaxis=(type=Axis3,),colormap=:deep)\n",
    "f"
   ]
  },
  {
   "cell_type": "code",
   "execution_count": null,
   "metadata": {},
   "outputs": [],
   "source": []
  }
 ],
 "metadata": {
  "kernelspec": {
   "display_name": "Julia 1.8.2",
   "language": "julia",
   "name": "julia-1.8"
  },
  "language_info": {
   "file_extension": ".jl",
   "mimetype": "application/julia",
   "name": "julia",
   "version": "1.8.2"
  },
  "orig_nbformat": 4
 },
 "nbformat": 4,
 "nbformat_minor": 2
}
